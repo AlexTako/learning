{
  "nbformat": 4,
  "nbformat_minor": 0,
  "metadata": {
    "colab": {
      "provenance": [],
      "include_colab_link": true
    },
    "kernelspec": {
      "name": "python3",
      "display_name": "Python 3"
    },
    "language_info": {
      "name": "python"
    }
  },
  "cells": [
    {
      "cell_type": "markdown",
      "metadata": {
        "id": "view-in-github",
        "colab_type": "text"
      },
      "source": [
        "<a href=\"https://colab.research.google.com/github/AlexTako/learning/blob/main/Function%2C%20class%2C%20object.ipynb\" target=\"_parent\"><img src=\"https://colab.research.google.com/assets/colab-badge.svg\" alt=\"Open In Colab\"/></a>"
      ]
    },
    {
      "cell_type": "markdown",
      "source": [
        "## Задача 1. Случайный номерной знак"
      ],
      "metadata": {
        "id": "Bh5tu_5BH-rG"
      }
    },
    {
      "cell_type": "markdown",
      "source": [
        "**Условие.** Представьте, что в вашем регионе устаревшим является формат номерных автомобильных знаков из трех букв, следом за которыми идут три цифры. Когда все номера такого шаблона закончились, было решено обновить формат, поставив в начало четыре цифры, а за ними три буквы.\n",
        "Напишите функцию, которая будет генерировать случайный номерной знак. При этом номера в старом и новом форматах должны создаваться примерно с одинаковой вероятностью. В основной программе нужно сгенерировать и вывести на экран случайный номерной знак."
      ],
      "metadata": {
        "id": "pLn92q_iLp_k"
      }
    },
    {
      "cell_type": "code",
      "execution_count": null,
      "metadata": {
        "id": "El4o9_QWeq78",
        "colab": {
          "base_uri": "https://localhost:8080/"
        },
        "outputId": "03ff07cc-cb21-490e-f19c-9145f52fa4fd"
      },
      "outputs": [
        {
          "output_type": "stream",
          "name": "stdout",
          "text": [
            "Ваш случайный номерной знак:  4693КВТ\n"
          ]
        }
      ],
      "source": [
        "#Напишите свое решение\n",
        "from random import randint, choice, random\n",
        "\n",
        "\n",
        "def random_license() -> str:\n",
        "  LEGAL_CHARS = ['А', 'В', 'Е', 'К', 'М', 'Н', 'О', 'Р', 'С', 'Т', 'У', 'Х']\n",
        "\n",
        "  old_plate = choice(LEGAL_CHARS) + choice(LEGAL_CHARS) + choice(LEGAL_CHARS) + str(randint(0, 9)) + str(randint(0, 9)) + str(randint(0, 9))\n",
        "  modern_plate = str(randint(0, 9)) + str(randint(0, 9)) + str(randint(0, 9)) + str(randint(0, 9)) + choice(LEGAL_CHARS) + choice(LEGAL_CHARS) + choice(LEGAL_CHARS)\n",
        "\n",
        "  if random() <= 0.5:\n",
        "    return old_plate\n",
        "  else:\n",
        "    return modern_plate\n",
        "\n",
        "def main():\n",
        "  print('Ваш случайный номерной знак: ', random_license())\n",
        "\n",
        "if __name__ == '__main__':\n",
        "  main()"
      ]
    },
    {
      "cell_type": "markdown",
      "source": [
        "## Задача 2. Шестнадцатеричные и десятичные числа"
      ],
      "metadata": {
        "id": "I4wpSF3IMHdX"
      }
    },
    {
      "cell_type": "markdown",
      "source": [
        "**Условие.** Напишите две функции с  именами hex2int и  int2hex для конвертации\n",
        "значений из шестнадцатеричной системы счисления (0, 1, 2, 3, 4, 5, 6, 7, 8, 9, A, B, C, D, E и F) в десятичную (по основанию 10) и обратно. Функция hex2int должна принимать на вход строку с единственным символом в  шестнадцатеричной системе и  преобразовывать его в  число от нуля до 15 в десятичной системе, тогда как функция int2hex будет выполнять обратное действие – принимать десятичное число из диапазона от 0 до 15 и возвращать шестнадцатеричный эквивалент. Обе функции должны принимать единственный параметр со входным значением и возвращать преобразованное число. Удостоверьтесь, что функция hex2int корректно обрабатывает буквы в верхнем и нижнем регистрах. Если введенное пользователем значение выходит за допустимые границы, вы должны вывести сообщение об ошибке."
      ],
      "metadata": {
        "id": "mYg_KnVwMStB"
      }
    },
    {
      "cell_type": "code",
      "source": [
        "#Напишите свое решение\n",
        "def hex2int(x: str) -> int:\n",
        "  x = x.upper()\n",
        "  numbers = '0123456789ABCDEF'\n",
        "  result = 0\n",
        "  valid_check = True\n",
        "\n",
        "\n",
        "  for ch in x:\n",
        "    if not ch in numbers:\n",
        "      valid_check = False\n",
        "      break\n",
        "\n",
        "\n",
        "  if not valid_check:\n",
        "    print('Ошибка, недопустимое значение')\n",
        "    return 0\n",
        "  elif valid_check:\n",
        "    step = len(x) - 1\n",
        "    index = 0\n",
        "    while step >= 0:\n",
        "      result += numbers.index(x[index]) * 16 ** step\n",
        "      step -= 1\n",
        "      index += 1\n",
        "\n",
        "    return result\n",
        "\n",
        "\n",
        "\n",
        "\n",
        "def int2hex(x: int) -> str:\n",
        "  result = ''\n",
        "  letters = '0123456789ABCDEF'\n",
        "\n",
        "  while x > 0:\n",
        "    result = letters[x % 16] + result\n",
        "    x = x // 16\n",
        "\n",
        "  return result\n",
        "\n",
        "def main():\n",
        "  number_to_hex = input('Введите число для перевода в шестнадцатеричную систему: ')\n",
        "  number_to_int = input('Введите число в шестнадцатиричной системе для перевода в десятичную: ')\n",
        "\n",
        "  print(f'Ваше число в шестнадцатиричной системе: {int2hex(int(number_to_hex))}')\n",
        "  print(f'Ваше число в десятиричной системе: {hex2int(number_to_int)}')\n",
        "\n",
        "if __name__ == '__main__':\n",
        "  main()"
      ],
      "metadata": {
        "id": "j4R38AofMTBX",
        "colab": {
          "base_uri": "https://localhost:8080/"
        },
        "outputId": "f998d796-75a6-4929-ec5b-b5bf198c556a"
      },
      "execution_count": null,
      "outputs": [
        {
          "output_type": "stream",
          "name": "stdout",
          "text": [
            "Введите число для перевода в шестнадцатеричную систему: 5622\n",
            "Введите число в шестнадцатиричной системе для перевода в десятичную: 15F6\n",
            "Ваше число в шестнадцатиричной системе: 15F6\n",
            "Ваше число в десятиричной системе: 5622\n"
          ]
        }
      ]
    },
    {
      "cell_type": "markdown",
      "source": [
        "## Задача 3. Беспилотный автомобиль"
      ],
      "metadata": {
        "id": "RIOKyPjlMZA_"
      }
    },
    {
      "cell_type": "markdown",
      "source": [
        "**Условие.** Это творческая задача. Представьте, что вы проектируете беспилотный автомобиль. Вам необходимо продумать, какими свойствами он обладает и какие действия совершает. Создайте класс беспилотный автомобиль и сохраните его в виде программного модуля. Импортируете класс и инициализируйте новый объект.  "
      ],
      "metadata": {
        "id": "OlVQTKYrMZBA"
      }
    },
    {
      "cell_type": "code",
      "source": [
        "#Напишите свое решение\n",
        "%%writefile driverlesscar.py\n",
        "\n",
        "class driverless_car(object):\n",
        "  name_class = 'Беспилотный автомобиль'\n",
        "\n",
        "  def __init__(self, brand, color, coast) -> None:\n",
        "    self.brand = brand\n",
        "    self.color = color\n",
        "    self.coast = coast\n",
        "\n",
        "  def authorization(self):\n",
        "    print('Провожу авторизацию')\n",
        "    print('Вы авторизованы')\n",
        "\n",
        "  def start_the_engine(self):\n",
        "    print('Завожу двигатель')\n",
        "\n",
        "  def route(self):\n",
        "    a = input('Введите точку для старта маршрута: ')\n",
        "    b = input('Введите точку конца маршрута')\n",
        "    print(f'Маршрут из точки {a} в точку {b} построен. Пожалуйста пристегните ремень безопасности')\n",
        "\n",
        "  def standby(self):\n",
        "    print('Включаю режим ожидания, двигатель не заглушен')"
      ],
      "metadata": {
        "id": "U2JxR4KOMZBA",
        "colab": {
          "base_uri": "https://localhost:8080/"
        },
        "outputId": "255adfc4-f51f-48ce-c7ed-adffe96a5743"
      },
      "execution_count": null,
      "outputs": [
        {
          "output_type": "stream",
          "name": "stdout",
          "text": [
            "Overwriting driverlesscar.py\n"
          ]
        }
      ]
    },
    {
      "cell_type": "code",
      "source": [
        "from driverlesscar import driverless_car\n",
        "\n",
        "my_car = driverless_car('Тесла', 'черный', '20 000 000 рублей')\n",
        "print(f'Марка машины - {my_car.brand}')\n",
        "print(f'Цвет машины - {my_car.color}')\n",
        "print(f'Автомобиль стоит {my_car.coast}')\n",
        "\n",
        "my_car.authorization()\n",
        "my_car.start_the_engine()\n",
        "my_car.route()\n",
        "my_car.standby()"
      ],
      "metadata": {
        "colab": {
          "base_uri": "https://localhost:8080/"
        },
        "id": "-zD7Nxd9DvGK",
        "outputId": "77648f29-c5df-4329-a442-d4c687ccdcb5"
      },
      "execution_count": null,
      "outputs": [
        {
          "output_type": "stream",
          "name": "stdout",
          "text": [
            "Марка машины - Тесла\n",
            "Цвет машины - черный\n",
            "Автомобиль стоит 20 000 000 рублей\n",
            "Провожу авторизацию\n",
            "Вы авторизованы\n",
            "Завожу двигатель\n",
            "Введите точку для старта маршрута: Москва\n",
            "Введите точку конца маршрутаМурманск\n",
            "Маршрут из точки Москва в точку Мурманск построен. Пожалуйста пристегните ремень безопасности\n",
            "Включаю режим ожидания, двигатель не заглушен\n"
          ]
        }
      ]
    }
  ]
}