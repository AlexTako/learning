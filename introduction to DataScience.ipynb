{
  "nbformat": 4,
  "nbformat_minor": 0,
  "metadata": {
    "colab": {
      "provenance": [],
      "include_colab_link": true
    },
    "kernelspec": {
      "name": "python3",
      "display_name": "Python 3"
    },
    "language_info": {
      "name": "python"
    }
  },
  "cells": [
    {
      "cell_type": "markdown",
      "metadata": {
        "id": "view-in-github",
        "colab_type": "text"
      },
      "source": [
        "<a href=\"https://colab.research.google.com/github/AlexTako/learning/blob/main/introduction%20to%20DataScience.ipynb\" target=\"_parent\"><img src=\"https://colab.research.google.com/assets/colab-badge.svg\" alt=\"Open In Colab\"/></a>"
      ]
    },
    {
      "cell_type": "markdown",
      "source": [
        "## Задача 1. Книги без буквы E."
      ],
      "metadata": {
        "id": "ZzjUAyrL6jgO"
      }
    },
    {
      "cell_type": "markdown",
      "source": [
        "**Условие.** В истории литературы известен случай написания романа объемом около\n",
        "50 тыс. слов, в котором ни разу не была употреблена самая популярная\n",
        "в английском алфавите буква E. Название его – «Gadsby».\n",
        "Напишите программу, которая будет считывать список слов из файла и собирать статистику о том, в каком проценте слов используется каждая буква алфавита. Выведите результат для всех 26 букв английского алфавита и отдельно отметьте букву, которая встречалась в словах наиболее редко. В  вашей программе должны игнорироваться знаки препинания и регистр символов.\n"
      ],
      "metadata": {
        "id": "M4OAOB6s6mU7"
      }
    },
    {
      "cell_type": "markdown",
      "source": [
        "**Подсказки.**\n",
        "1. Переведите все слова в верхний регистр:\n",
        "```\n",
        "word = word.upper().rstrip() # upper - переводит строку в верхний регистр\n",
        "```\n",
        "2. Создайте словарь со счетчиком слов, содержащий каждую букву\n",
        "```\n",
        "# Для каждой буквы инициализируем счетчик нулем\n",
        "counts = {}\n",
        "for ch in \"ABCDEFGHIJKLMNOPQRSTUVWXYZ\":\n",
        "       counts[ch] = 0\n",
        "```\n",
        "3. Наиболее редко используемое слово можно найти следующим образом:\n",
        "```\n",
        "smallest_count = min(counts.values()) # min - возвращает наименьшее число в списке\n",
        "```"
      ],
      "metadata": {
        "id": "1X5QIF1nryYd"
      }
    },
    {
      "cell_type": "code",
      "source": [
        "with open('books.txt', 'w') as file:\n",
        "    text = ''' I go to school. I'm a pupil.\n",
        "    I have got many friends. We have our classroom.\n",
        "    It is nice and large.\n",
        "    You can see twelve desks, many chairs, our teacher's table, a blackboard, two bookcases in the classroom.\n",
        "    At the lessons we have pens, pencils, pencil-boxes or pencil-cases, rulers, erasers, textbooks, exercise-books, record-books on the desks. '''\n",
        "\n",
        "    file.write(text)"
      ],
      "metadata": {
        "id": "q1yTGuE18v1g"
      },
      "execution_count": null,
      "outputs": []
    },
    {
      "cell_type": "code",
      "source": [
        "#Напишите свое решение\n",
        "counts = {}\n",
        "percent = {}\n",
        "min_letter = ''\n",
        "letters = \"ABCDEFGHIJKLMNOPQRSTUVWXYZ\"\n",
        "\n",
        "for ch in letters: #инициализация счетчика\n",
        "    counts[ch] = 0\n",
        "\n",
        "with open('books.txt', 'r') as file:\n",
        "    word = file.read().upper().rstrip() #прочитали в одну строку, перевели в верхний регистр, удалили \\n\n",
        "    word = ''.join(word.split()) #удалили все пробелы\n",
        "    for char in word:\n",
        "        if char in letters:\n",
        "            counts[char] += 1\n",
        "    for ch in letters:\n",
        "        percent[ch] = counts[ch] / len(word) * 100 #процент использования букв\n",
        "        print(f'Буква {ch} занимает {percent[ch]:.1f}% в тексте')\n",
        "\n",
        "smallest_count = min(counts.values())\n",
        "\n",
        "for k, v in counts.items():\n",
        "    if v == smallest_count:\n",
        "        min_letter = k\n",
        "\n",
        "print(f'Буква {min_letter} использовалась реже всех')"
      ],
      "metadata": {
        "id": "C2W-ZDOF6mzF",
        "colab": {
          "base_uri": "https://localhost:8080/"
        },
        "outputId": "75205aef-884a-4b8b-c24c-ab97ce9daf75"
      },
      "execution_count": null,
      "outputs": [
        {
          "output_type": "stream",
          "name": "stdout",
          "text": [
            "Буква A занимает 7.3% в тексте\n",
            "Буква B занимает 2.8% в тексте\n",
            "Буква C занимает 5.2% в тексте\n",
            "Буква D занимает 2.1% в тексте\n",
            "Буква E занимает 12.5% в тексте\n",
            "Буква F занимает 0.3% в тексте\n",
            "Буква G занимает 1.0% в тексте\n",
            "Буква H занимает 3.1% в тексте\n",
            "Буква I занимает 4.9% в тексте\n",
            "Буква J занимает 0.0% в тексте\n",
            "Буква K занимает 2.4% в тексте\n",
            "Буква L занимает 4.5% в тексте\n",
            "Буква M занимает 1.7% в тексте\n",
            "Буква N занимает 4.5% в тексте\n",
            "Буква O занимает 9.4% в тексте\n",
            "Буква P занимает 2.1% в тексте\n",
            "Буква Q занимает 0.0% в тексте\n",
            "Буква R занимает 5.9% в тексте\n",
            "Буква S занимает 10.8% в тексте\n",
            "Буква T занимает 4.5% в тексте\n",
            "Буква U занимает 1.7% в тексте\n",
            "Буква V занимает 1.4% в тексте\n",
            "Буква W занимает 1.4% в тексте\n",
            "Буква X занимает 1.0% в тексте\n",
            "Буква Y занимает 1.0% в тексте\n",
            "Буква Z занимает 0.0% в тексте\n",
            "Буква Z использовалась реже всех\n"
          ]
        }
      ]
    },
    {
      "cell_type": "markdown",
      "source": [
        "## Задание 2. Веб-скрейпинг ИИ новостей"
      ],
      "metadata": {
        "id": "m5K8F02cbJ3c"
      }
    },
    {
      "cell_type": "markdown",
      "source": [
        "**Описание задания.** проведите скрейпинг сайта с новостями из сферы ИИ (https://2051.vision/category/ii/), выведите на экран заголовки новостей."
      ],
      "metadata": {
        "id": "LPb3n5UqbRAD"
      }
    },
    {
      "cell_type": "code",
      "source": [
        "!pip install beautifulsoup4 requests html5lib"
      ],
      "metadata": {
        "colab": {
          "base_uri": "https://localhost:8080/"
        },
        "id": "B0NvPaKJDvS6",
        "outputId": "8dd5a795-977a-4863-9b5d-a75f0082866a"
      },
      "execution_count": null,
      "outputs": [
        {
          "output_type": "stream",
          "name": "stdout",
          "text": [
            "Requirement already satisfied: beautifulsoup4 in /usr/local/lib/python3.10/dist-packages (4.11.2)\n",
            "Requirement already satisfied: requests in /usr/local/lib/python3.10/dist-packages (2.31.0)\n",
            "Requirement already satisfied: html5lib in /usr/local/lib/python3.10/dist-packages (1.1)\n",
            "Requirement already satisfied: soupsieve>1.2 in /usr/local/lib/python3.10/dist-packages (from beautifulsoup4) (2.5)\n",
            "Requirement already satisfied: charset-normalizer<4,>=2 in /usr/local/lib/python3.10/dist-packages (from requests) (3.3.2)\n",
            "Requirement already satisfied: idna<4,>=2.5 in /usr/local/lib/python3.10/dist-packages (from requests) (3.6)\n",
            "Requirement already satisfied: urllib3<3,>=1.21.1 in /usr/local/lib/python3.10/dist-packages (from requests) (2.0.7)\n",
            "Requirement already satisfied: certifi>=2017.4.17 in /usr/local/lib/python3.10/dist-packages (from requests) (2023.11.17)\n",
            "Requirement already satisfied: six>=1.9 in /usr/local/lib/python3.10/dist-packages (from html5lib) (1.16.0)\n",
            "Requirement already satisfied: webencodings in /usr/local/lib/python3.10/dist-packages (from html5lib) (0.5.1)\n"
          ]
        }
      ]
    },
    {
      "cell_type": "code",
      "source": [
        "#Напишите свое решение\n",
        "from bs4 import BeautifulSoup\n",
        "import requests\n",
        "\n",
        "url = ('https://2051.vision/category/ii/') #url ресурса с которого используем get\n",
        "html = requests.get(url).text #извлекаем внутренность тега <html></html>\n",
        "soup = BeautifulSoup(html, 'html5lib')\n",
        "\n",
        "for h3 in soup.find_all('h3', class_='entry-title'): #для всех заголовков 3 уровня с классом entry-title\n",
        "    print(h3.text) #принтим содержимое тегов h3"
      ],
      "metadata": {
        "id": "E2UFxRjFi_aW",
        "colab": {
          "base_uri": "https://localhost:8080/"
        },
        "outputId": "c1981037-6dda-4721-f013-fa619c87b0f8"
      },
      "execution_count": null,
      "outputs": [
        {
          "output_type": "stream",
          "name": "stdout",
          "text": [
            "OpenAI запустила GPT Store\n",
            "Итоги-2023. ТОП новостей из области ИИ\n",
            "Как я перестал бояться и полюбил нейросети: ученые оценили риск вымирания человечества из-за ИИ\n",
            "NYT подала в суд на OpenAI и Microsoft\n",
            "На канале Visioner 2051 новый выпуск: Руслан Ахтямов\n",
            "Росcийские ученые создали самый эффективный в мире алгоритм обучения ИИ\n",
            "Новая идея для «Черного зеркала»: ИИ предсказал судьбу датчан\n",
            "Фейк на фейке: ИИ генерирует все больше новостей\n",
            "Google запустила AI Studio\n",
            "В бразильском Порту-Аллегри отменили плату за установку счетчиков воды взамен украденных\n",
            "Младенцы, наводящие суету: как Эль-Ниньо и Ла-Нинья влияют на климат\n",
            "Итоги-2023. ТОП новостей, которые нас рассмешили\n",
            "Несчастье помогло: вирус Зика помог вылечить рак\n",
            "Новый выпуск на YouTube-канале Visioner 2051! Гость — Андрей Волостнов\n"
          ]
        }
      ]
    }
  ]
}