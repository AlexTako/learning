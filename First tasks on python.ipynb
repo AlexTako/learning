{
  "nbformat": 4,
  "nbformat_minor": 0,
  "metadata": {
    "colab": {
      "provenance": [],
      "include_colab_link": true
    },
    "kernelspec": {
      "name": "python3",
      "display_name": "Python 3"
    },
    "language_info": {
      "name": "python"
    }
  },
  "cells": [
    {
      "cell_type": "markdown",
      "metadata": {
        "id": "view-in-github",
        "colab_type": "text"
      },
      "source": [
        "<a href=\"https://colab.research.google.com/github/AlexTako/learning/blob/main/First%20tasks%20on%20python.ipynb\" target=\"_parent\"><img src=\"https://colab.research.google.com/assets/colab-badge.svg\" alt=\"Open In Colab\"/></a>"
      ]
    },
    {
      "cell_type": "markdown",
      "source": [
        "**Навигация по уроку**\n",
        "\n",
        "1. [Введение в Python. Синтаксис](https://colab.research.google.com/drive/1YBLgd6tZYlkhwpnEc4IM8tVnewLUnlUO#scrollTo=yqZjRAldfz_L)\n",
        "2. [Практика](https://colab.research.google.com/drive/1m-Ph90c-9S_gZchdG1ARoY2YjMTryKkl#scrollTo=UdxWiGmA63K2)\n",
        "3. Домашняя работа"
      ],
      "metadata": {
        "id": "ARGgA85EgS0p"
      }
    },
    {
      "cell_type": "markdown",
      "source": [
        "В домашней работе необходимо, используя знания теоретической части занятия и полученные практические навыки, решить, представленные ниже задачи. Для этого необходимо скопировать Блокнот (см. раздел 1.1.), решить в нем все задач, открыть общий доступ к Блокноту ((см. раздел 1.1.) и отправить ссылку на Блокнот куратору на проверку. Желаем удачи!"
      ],
      "metadata": {
        "id": "EdiQPIVgklWr"
      }
    },
    {
      "cell_type": "markdown",
      "source": [
        "## Задача 1. Приветствие."
      ],
      "metadata": {
        "id": "ZzjUAyrL6jgO"
      }
    },
    {
      "cell_type": "markdown",
      "source": [
        "**Условие.** Напишите программу, запрашивающую у пользователя его имя. В ответ\n",
        "на ввод на экране должно появиться приветствие с обращением по имени,\n",
        "введенному с клавиатуры ранее.\n"
      ],
      "metadata": {
        "id": "M4OAOB6s6mU7"
      }
    },
    {
      "cell_type": "code",
      "source": [
        "#Напишите свое решение\n",
        "name = input('Введите Ваше имя ')\n",
        "\n",
        "print('Здравствуйте,', name)"
      ],
      "metadata": {
        "id": "C2W-ZDOF6mzF",
        "colab": {
          "base_uri": "https://localhost:8080/"
        },
        "outputId": "7ef0a38e-1cec-45f1-fd63-64cc66830e56"
      },
      "execution_count": null,
      "outputs": [
        {
          "output_type": "stream",
          "name": "stdout",
          "text": [
            "Введите Ваше имя Александр\n",
            "Здравствуйте, Александр\n"
          ]
        }
      ]
    },
    {
      "cell_type": "markdown",
      "source": [
        "## Задача 2. Сувениры и безделушки."
      ],
      "metadata": {
        "id": "UG8mwj2-eALV"
      }
    },
    {
      "cell_type": "markdown",
      "source": [
        "**Условие.** Интернет-магазин занимается продажей различных сувениров и безделушек. Каждый сувенир весит 75 г, а безделушка – 112 г. Напишите программу, запрашивающую у пользователя количество тех и других покупок,\n",
        "после чего выведите на экран общий вес посылки.\n"
      ],
      "metadata": {
        "id": "ay2EfeBreALW"
      }
    },
    {
      "cell_type": "code",
      "source": [
        "#Напишите свое решение\n",
        "suv = int(input('Введите количество сувениров: '))\n",
        "besd = int(input('Введите количество безделушек: '))\n",
        "\n",
        "total = suv * 75 + besd * 112\n",
        "\n",
        "print('Общий вес: %d г' % total)"
      ],
      "metadata": {
        "id": "WY-KRVHyeALX",
        "colab": {
          "base_uri": "https://localhost:8080/"
        },
        "outputId": "61627769-f764-45d5-e5b2-3226fd2ef3cc"
      },
      "execution_count": null,
      "outputs": [
        {
          "output_type": "stream",
          "name": "stdout",
          "text": [
            "Введите количество сувениров: 1\n",
            "Введите количество безделушек: 1\n",
            "Общий вес: 187\n"
          ]
        }
      ]
    },
    {
      "cell_type": "markdown",
      "source": [
        "## Задача 3. Сложные проценты"
      ],
      "metadata": {
        "id": "v2IXqDTVeBfM"
      }
    },
    {
      "cell_type": "markdown",
      "source": [
        "**Условие.** Представьте, что вы открыли в банке сберегательный счет под 4 % годовых. Проценты банк рассчитывает в конце года и добавляет к сумме счета.\n",
        "Напишите программу, которая запрашивает у пользователя сумму первоначального депозита, после чего рассчитывает и выводит на экран сумму\n",
        "на счету в конце первого, второго и третьего годов. Все суммы должны\n",
        "быть округлены до двух знаков после запятой.\n",
        "\n"
      ],
      "metadata": {
        "id": "rGE3sh2ueBfN"
      }
    },
    {
      "cell_type": "code",
      "source": [
        "#Напишите свое решение\n",
        "deposit = float(input('Введите сумму первоначального депозита: '))\n",
        "\n",
        "f_year = deposit + deposit * 0.04\n",
        "s_year = f_year + f_year * 0.04\n",
        "t_year = s_year + s_year * 0.04\n",
        "\n",
        "print('Сумма на счету в первый год: %.2f, во второй год: %.2f, в третий год: %.2f' % (f_year, s_year, t_year))"
      ],
      "metadata": {
        "id": "0DYIIu98eBfN",
        "colab": {
          "base_uri": "https://localhost:8080/"
        },
        "outputId": "1ee42e28-ff35-450c-f036-344c63bdf782"
      },
      "execution_count": null,
      "outputs": [
        {
          "output_type": "stream",
          "name": "stdout",
          "text": [
            "Введите сумму первоначального депозита: 100\n",
            "Сумма на счету в первый год: 104.00, во второй год: 108.16, в третий год: 112.49\n"
          ]
        }
      ]
    },
    {
      "cell_type": "markdown",
      "source": [
        "## Задача 4. Арифметика"
      ],
      "metadata": {
        "id": "d9y6YzAvuW4l"
      }
    },
    {
      "cell_type": "markdown",
      "source": [
        "**Условие.** Создайте программу, которая запрашивает у пользователя два целых числа a и b, после чего выводит на экран результаты следующих математических операций:\n",
        "* сумма a и b;\n",
        "* разница между a и b;\n",
        "* произведение a и b;\n",
        "* частное от деления a на b;\n",
        "* остаток от деления a на b;\n",
        "* десятичный логарифм числа a;\n",
        "* результат возведения числа a в степень b."
      ],
      "metadata": {
        "id": "ZeZZ2IrUuW4m"
      }
    },
    {
      "cell_type": "code",
      "source": [
        "#Напишите свое решение\n",
        "from math import log10\n",
        "\n",
        "a = int(input('Введите число a = '))\n",
        "b = int(input('Введите число b = '))\n",
        "\n",
        "sm = a + b\n",
        "raz = a - b\n",
        "proisv = a * b\n",
        "chast = a // b\n",
        "ostat = a % b\n",
        "logar = log10(a)\n",
        "stepen = a ** b\n",
        "\n",
        "print('Сумма чисел = %.2f, разница между числами = %.2f, произведение чисел = %.2f, деление без остатка = %.2f, остаток деления = %.2f, десятичный логарифм = %.2f, возведение в степень = %.2f' % (sm, raz, proisv, chast, ostat, logar, stepen))"
      ],
      "metadata": {
        "id": "gCbjinmpuW4m",
        "colab": {
          "base_uri": "https://localhost:8080/"
        },
        "outputId": "3e58a630-59e2-49be-ced2-bb441df5bbfb"
      },
      "execution_count": null,
      "outputs": [
        {
          "output_type": "stream",
          "name": "stdout",
          "text": [
            "Введите число a = 2\n",
            "Введите число b = 1\n",
            "Сумма чисел = 3.00, разница между числами = 1.00, произведение чисел = 2.00, деление без остатка = 2.00, остаток деления = 0.00, десятичный логарифм = 0.30, возведение в степень = 2.00\n"
          ]
        }
      ]
    },
    {
      "cell_type": "markdown",
      "source": [
        "## Задача 5. Размен"
      ],
      "metadata": {
        "id": "EcSSCSnpeBto"
      }
    },
    {
      "cell_type": "markdown",
      "source": [
        "**Условие.** Представьте, что вы пишете программное обеспечение для автоматической кассы в  магазине самообслуживания. Одной из функций, заложенных в кассу, должен быть расчет сдачи в случае оплаты покупателем наличными.\n",
        "Напишите программу, которая будет запрашивать у пользователя сумму сдачи в копейках. После этого она должна рассчитать и вывести на экран, сколько и каких монет потребуется для выдачи указанной суммы, при условии что должно быть задействовано минимально возможное количество монет. Допустим, у нас есть в распоряжении монеты достоинством в 1, 5, 10, 50 копеек, а также в 1, 2 и 5 рублей.\n"
      ],
      "metadata": {
        "id": "VfX5FQQreBtp"
      }
    },
    {
      "cell_type": "code",
      "source": [
        "#Напишите свое решение\n",
        "sdacha = int(input('Введите сумму сдачи в копейках: '))\n",
        "moneta_pyat = 0\n",
        "moneta_dva = 0\n",
        "moneta_odin = 0\n",
        "moneta_pd = 0\n",
        "moneta_d = 0\n",
        "moneta_p = 0\n",
        "\n",
        "while sdacha >= 500:\n",
        "  moneta_pyat += 1\n",
        "  sdacha -= 500\n",
        "\n",
        "while sdacha >= 200:\n",
        "  moneta_dva += 1\n",
        "  sdacha -= 200\n",
        "\n",
        "while sdacha >= 100:\n",
        "  moneta_odin += 1\n",
        "  sdacha -= 100\n",
        "\n",
        "while sdacha >= 50:\n",
        "  moneta_pd += 1\n",
        "  sdacha -= 50\n",
        "\n",
        "while sdacha >= 10:\n",
        "  moneta_d += 1\n",
        "  sdacha -= 10\n",
        "\n",
        "while sdacha >= 5:\n",
        "  moneta_p += 1\n",
        "  sdacha -= 5\n",
        "\n",
        "print('Ваша сдача: %d пятирублевых монет, %d двухрублевых монет, %d однорублевых монет, %d пятидесятикопеечных монет, %d десятикопеечных монет, %d пятикопеечных монет, %d однокопеечных монет' % (moneta_pyat, moneta_dva, moneta_odin, moneta_pd, moneta_d, moneta_p, sdacha))"
      ],
      "metadata": {
        "id": "4ecMH2bjeBtp",
        "colab": {
          "base_uri": "https://localhost:8080/"
        },
        "outputId": "e031fd8d-98fd-478e-9a4a-aab0becef15a"
      },
      "execution_count": null,
      "outputs": [
        {
          "output_type": "stream",
          "name": "stdout",
          "text": [
            "Введите сумму сдачи в копейках: 555\n",
            "Ваша сдача: 1 пятирублевых монет, 0 двухрублевых монет, 0 однорублевых монет, 1 пятидесятикопеечных монет, 0 десятикопеечных монет, 1 пятикопеечных монет, 0 однокопеечных монет\n"
          ]
        }
      ]
    },
    {
      "cell_type": "markdown",
      "source": [
        "## Задача 6. Вчерашний хлеб"
      ],
      "metadata": {
        "id": "26soP3cfeB8i"
      }
    },
    {
      "cell_type": "markdown",
      "source": [
        "**Условие.** Пекарня продает хлеб по 49 рублей за буханку. Скидка на вчерашний хлеб составляет 60 %. Напишите программу, которая будет запрашивать у пользователя количество приобретенных вчерашних буханок хлеба. В вывод на экран должны быть включены обычная цена за буханку, цена со скидкой и общая стоимость приобретенного хлеба. Все значения должны быть выведены на отдельных строках с соответствующими описаниями. Используйте для вывода формат с двумя знаками после запятой и 5-ю знакоместами.\n"
      ],
      "metadata": {
        "id": "t-cYNmWQeB8i"
      }
    },
    {
      "cell_type": "code",
      "source": [
        "#Напишите свое решение\n",
        "\n",
        "old = int(input('Введите количество вчерашних буханок: '))\n",
        "\n",
        "CENA_OLD = 49 - 49 * 0.6\n",
        "\n",
        "total = old * CENA_OLD\n",
        "\n",
        "print(f'Обычная цена за буханку = {49 : 5.2f} рублей')\n",
        "print(f'Цена буханки со скидкой = {CENA_OLD : 5.2f} рублей')\n",
        "print(f'Общая стоимость хлеба =  {total : 5.2f} рублей')"
      ],
      "metadata": {
        "id": "R2-WoQoveB8j",
        "colab": {
          "base_uri": "https://localhost:8080/"
        },
        "outputId": "c5293774-122c-43ea-fd5e-899dfd47b3ae"
      },
      "execution_count": null,
      "outputs": [
        {
          "output_type": "stream",
          "name": "stdout",
          "text": [
            "Введите количество вчерашних буханок: 10\n",
            "Обычная цена за буханку =  49.00 рублей\n",
            "Цена буханки со скидкой =  19.60 рублей\n",
            "Общая стоимость хлеба =   196.00 рублей\n"
          ]
        }
      ]
    }
  ]
}