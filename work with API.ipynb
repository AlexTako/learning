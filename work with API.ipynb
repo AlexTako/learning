{
  "nbformat": 4,
  "nbformat_minor": 0,
  "metadata": {
    "colab": {
      "provenance": [],
      "include_colab_link": true
    },
    "kernelspec": {
      "name": "python3",
      "display_name": "Python 3"
    },
    "language_info": {
      "name": "python"
    }
  },
  "cells": [
    {
      "cell_type": "markdown",
      "metadata": {
        "id": "view-in-github",
        "colab_type": "text"
      },
      "source": [
        "<a href=\"https://colab.research.google.com/github/AlexTako/learning/blob/main/work%20with%20API.ipynb\" target=\"_parent\"><img src=\"https://colab.research.google.com/assets/colab-badge.svg\" alt=\"Open In Colab\"/></a>"
      ]
    },
    {
      "cell_type": "markdown",
      "source": [
        "# Необходимые инструменты и библиотеки"
      ],
      "metadata": {
        "id": "O520cxm5CjUX"
      }
    },
    {
      "cell_type": "markdown",
      "source": [
        "Для работы с API Reddit необходима библиотека PRAW (Python Reddit API Wrapper)."
      ],
      "metadata": {
        "id": "SiT-mqSwCpq7"
      }
    },
    {
      "cell_type": "markdown",
      "source": [
        "# Регистрация приложения на Reddit"
      ],
      "metadata": {
        "id": "LdoWGJwVCqv3"
      }
    },
    {
      "cell_type": "markdown",
      "source": [
        "Прежде чем начать работать с данным API, необходимо зарегистрировать ваше приложение на Reddit. Для этого выполните следующие действия:\n",
        "1.\tВойдите в свою учетную запись на reddit.com.\n",
        "2.\tПерейдите на страницу приложений.\n",
        "3.\tНажмите на кнопку «Create App» или «Create Another App».\n",
        "4.\tЗаполните форму, выберите тип приложения (script) и нажмите «Create app».\n",
        "После регистрации приложения у вас появятся данные, необходимые для доступа к API: client_id, client_secret и redirect_uri.\n"
      ],
      "metadata": {
        "id": "lIJdcTkiCt_v"
      }
    },
    {
      "cell_type": "markdown",
      "source": [
        "# Инициализация PRAW и подключение к API"
      ],
      "metadata": {
        "id": "oyUVV36MCzVH"
      }
    },
    {
      "cell_type": "markdown",
      "source": [
        "Далее можно подключиться к API и начать работать с ним. Сначала нужно создать объект Reddit с помощью PRAW:"
      ],
      "metadata": {
        "id": "m96s1JrIC2kP"
      }
    },
    {
      "cell_type": "code",
      "source": [
        "!pip install PRAW"
      ],
      "metadata": {
        "colab": {
          "base_uri": "https://localhost:8080/"
        },
        "id": "BbJ9kvOmNCHI",
        "outputId": "c117a405-738a-46f0-feab-c2b78bb95f58"
      },
      "execution_count": null,
      "outputs": [
        {
          "output_type": "stream",
          "name": "stdout",
          "text": [
            "Collecting PRAW\n",
            "  Downloading praw-7.7.1-py3-none-any.whl (191 kB)\n",
            "\u001b[?25l     \u001b[90m━━━━━━━━━━━━━━━━━━━━━━━━━━━━━━━━━━━━━━━━\u001b[0m \u001b[32m0.0/191.0 kB\u001b[0m \u001b[31m?\u001b[0m eta \u001b[36m-:--:--\u001b[0m\r\u001b[2K     \u001b[91m━━━━━━━━\u001b[0m\u001b[91m╸\u001b[0m\u001b[90m━━━━━━━━━━━━━━━━━━━━━━━━━━━━━━━\u001b[0m \u001b[32m41.0/191.0 kB\u001b[0m \u001b[31m1.1 MB/s\u001b[0m eta \u001b[36m0:00:01\u001b[0m\r\u001b[2K     \u001b[91m━━━━━━━━━━━━━━━━━━━━━━━━━━━━━━━━━━━━━━\u001b[0m\u001b[91m╸\u001b[0m\u001b[90m━\u001b[0m \u001b[32m184.3/191.0 kB\u001b[0m \u001b[31m2.7 MB/s\u001b[0m eta \u001b[36m0:00:01\u001b[0m\r\u001b[2K     \u001b[90m━━━━━━━━━━━━━━━━━━━━━━━━━━━━━━━━━━━━━━━━\u001b[0m \u001b[32m191.0/191.0 kB\u001b[0m \u001b[31m2.4 MB/s\u001b[0m eta \u001b[36m0:00:00\u001b[0m\n",
            "\u001b[?25hCollecting prawcore<3,>=2.1 (from PRAW)\n",
            "  Downloading prawcore-2.4.0-py3-none-any.whl (17 kB)\n",
            "Collecting update-checker>=0.18 (from PRAW)\n",
            "  Downloading update_checker-0.18.0-py3-none-any.whl (7.0 kB)\n",
            "Requirement already satisfied: websocket-client>=0.54.0 in /usr/local/lib/python3.10/dist-packages (from PRAW) (1.7.0)\n",
            "Requirement already satisfied: requests<3.0,>=2.6.0 in /usr/local/lib/python3.10/dist-packages (from prawcore<3,>=2.1->PRAW) (2.31.0)\n",
            "Requirement already satisfied: charset-normalizer<4,>=2 in /usr/local/lib/python3.10/dist-packages (from requests<3.0,>=2.6.0->prawcore<3,>=2.1->PRAW) (3.3.2)\n",
            "Requirement already satisfied: idna<4,>=2.5 in /usr/local/lib/python3.10/dist-packages (from requests<3.0,>=2.6.0->prawcore<3,>=2.1->PRAW) (3.6)\n",
            "Requirement already satisfied: urllib3<3,>=1.21.1 in /usr/local/lib/python3.10/dist-packages (from requests<3.0,>=2.6.0->prawcore<3,>=2.1->PRAW) (2.0.7)\n",
            "Requirement already satisfied: certifi>=2017.4.17 in /usr/local/lib/python3.10/dist-packages (from requests<3.0,>=2.6.0->prawcore<3,>=2.1->PRAW) (2023.11.17)\n",
            "Installing collected packages: update-checker, prawcore, PRAW\n",
            "Successfully installed PRAW-7.7.1 prawcore-2.4.0 update-checker-0.18.0\n"
          ]
        }
      ]
    },
    {
      "cell_type": "code",
      "source": [
        "import praw\n",
        "\n",
        "reddit = praw.Reddit(\n",
        "    client_id=\"wtIfVm20d9PwgpnuDp5Cfw\",\n",
        "    client_secret=\"r4WhvMFeTBdXrDp3IgFuX_94kFYzMA\",\n",
        "    redirect_uri=\"https://google.com\",\n",
        "    user_agent=\"redditdev scraper\")"
      ],
      "metadata": {
        "id": "cWzns0acC6FG"
      },
      "execution_count": null,
      "outputs": []
    },
    {
      "cell_type": "markdown",
      "source": [
        "Здесь нужно заменить client_id, client_secret, redirect_uri и user_agent на значения, полученные вами после регистрации."
      ],
      "metadata": {
        "id": "bFiX4efuC9uv"
      }
    },
    {
      "cell_type": "markdown",
      "source": [
        "# Получение данных с Reddit"
      ],
      "metadata": {
        "id": "dUJcPJc-DFTn"
      }
    },
    {
      "cell_type": "markdown",
      "source": [
        "Объект reddit можно использовать для получения данных с платформы. Например, давайте получим топ 10 постов со страницы «all»:"
      ],
      "metadata": {
        "id": "Pj0vR56LDH4z"
      }
    },
    {
      "cell_type": "code",
      "source": [
        "top_posts = reddit.subreddit(\"all\").top(limit=10)\n",
        "\n",
        "for post in top_posts:\n",
        "    print(post.title)"
      ],
      "metadata": {
        "id": "ZzWPq3xFDOGv",
        "colab": {
          "base_uri": "https://localhost:8080/"
        },
        "outputId": "6374df63-16a6-4721-f5ee-25d5dacfd943"
      },
      "execution_count": null,
      "outputs": [
        {
          "output_type": "stream",
          "name": "stderr",
          "text": [
            "WARNING:praw:It appears that you are using PRAW in an asynchronous environment.\n",
            "It is strongly recommended to use Async PRAW: https://asyncpraw.readthedocs.io.\n",
            "See https://praw.readthedocs.io/en/latest/getting_started/multiple_instances.html#discord-bots-and-asynchronous-environments for more info.\n",
            "\n"
          ]
        },
        {
          "output_type": "stream",
          "name": "stdout",
          "text": [
            "I’ve found a few funny memories during lockdown. This is from my 1st tour in 89, backstage in Vegas.\n",
            "Times Square right now\n",
            "Joe Biden elected president of the United States\n",
            "The Senate. Upvote this so that people see it when they Google \"The Senate\".\n",
            "My cab driver tonight was so excited to share with me that he’d made the cover of the calendar. I told him I’d help let the world see\n",
            "UPVOTE so everyone sees we got SUPPORT\n",
            "A short story\n",
            "Guardians of the Front Page\n",
            "This is what happens when one company owns dozens of local news stations\n",
            "Heat index was 110 degrees so we offered him a cold drink. He went for a full body soak instead\n"
          ]
        }
      ]
    },
    {
      "cell_type": "markdown",
      "source": [
        "Этот код выводит заголовки топ 10 постов на странице «all» Reddit."
      ],
      "metadata": {
        "id": "J6nhVbI9DPf_"
      }
    },
    {
      "cell_type": "markdown",
      "source": [
        "# Работа с комментариями"
      ],
      "metadata": {
        "id": "_6WX6TkgDVG-"
      }
    },
    {
      "cell_type": "markdown",
      "source": [
        "Также с помощью объекта reddit можно получать комментарии к постам. Например, с помощью кода ниже можно получить топ 5 комментариев для первого поста из списка:"
      ],
      "metadata": {
        "id": "Ez_sdu4YDYWb"
      }
    },
    {
      "cell_type": "code",
      "source": [
        "post = next(reddit.subreddit(\"all\").top(limit=1))\n",
        "top_comments = post.comments.list()[:5]\n",
        "\n",
        "for comment in top_comments:\n",
        "    print(comment.body)"
      ],
      "metadata": {
        "id": "HGYxgfE_DcGK",
        "colab": {
          "base_uri": "https://localhost:8080/"
        },
        "outputId": "d3e40b1a-4ca0-4bea-be69-cd57bb9d6977"
      },
      "execution_count": null,
      "outputs": [
        {
          "output_type": "stream",
          "name": "stderr",
          "text": [
            "WARNING:praw:It appears that you are using PRAW in an asynchronous environment.\n",
            "It is strongly recommended to use Async PRAW: https://asyncpraw.readthedocs.io.\n",
            "See https://praw.readthedocs.io/en/latest/getting_started/multiple_instances.html#discord-bots-and-asynchronous-environments for more info.\n",
            "\n",
            "WARNING:praw:It appears that you are using PRAW in an asynchronous environment.\n",
            "It is strongly recommended to use Async PRAW: https://asyncpraw.readthedocs.io.\n",
            "See https://praw.readthedocs.io/en/latest/getting_started/multiple_instances.html#discord-bots-and-asynchronous-environments for more info.\n",
            "\n"
          ]
        },
        {
          "output_type": "stream",
          "name": "stdout",
          "text": [
            "WHY DO I ALWAYS MISS THE COOLEST STUFF?? AW MAAAAN!\n",
            "Thanks all for the love,  comments, DMs etc!  And finally, u/theMalleableDuck I salute you! Rick x\n",
            "250k! Wtf 🤣🙏\n",
            "Edit: 300k!!\n",
            "I may not be the biggest fan of your music, but I am forever a fan of you.\n",
            "\n",
            "Thanks for being such a good sport with the internet.  It can be a hateful place, but you have inadvertently (or maybe it was your plan all along) created one of the longest-running, formidable, and hard to see coming memes/trolls of the digital age.\n",
            "\n",
            "For that, we immortalize you in a way most people can only dream.  We thank you and we honor you at the same time.\n",
            "Hey Rick! \n",
            "\n",
            "My dad used to work with your brother in law at an aerospace place in Wigan. He's only ever heard good things about you, which means I've only ever heard good things about you. I just wanted to say hello. So, hello!\n"
          ]
        }
      ]
    },
    {
      "cell_type": "markdown",
      "source": [
        "Этот код выводит текст топ 5 комментариев для первого поста на странице «all»."
      ],
      "metadata": {
        "id": "s8nJSjCsDbLS"
      }
    },
    {
      "cell_type": "markdown",
      "source": [
        "По примеру выше выполните следующие задачи (все использованные в задачах API взяты из списка, получаемого по приведенной выше ссылке).\n"
      ],
      "metadata": {
        "id": "Z8EQIUnDDjba"
      }
    },
    {
      "cell_type": "markdown",
      "source": [
        "# Задание 1."
      ],
      "metadata": {
        "id": "fS6yNsI8DpK2"
      }
    },
    {
      "cell_type": "markdown",
      "source": [
        "**Работа с API News API**\n",
        "1. Получить и вывести список последних 10-ти новостей, выпущенных информационным агентством BBC;\n",
        "2. Получить и вывести список информационных агентств, публикующих новости на испанском языке;\n",
        "3. Получить и вывести список 5-ти последних новостей связанных с ИИ."
      ],
      "metadata": {
        "id": "MIQktPzPDrqa"
      }
    },
    {
      "cell_type": "code",
      "source": [
        "!pip install newsapi-python"
      ],
      "metadata": {
        "colab": {
          "base_uri": "https://localhost:8080/"
        },
        "id": "6g_enL5aOf2H",
        "outputId": "1cb9dba7-699a-4302-cacd-87325da1639c"
      },
      "execution_count": null,
      "outputs": [
        {
          "output_type": "stream",
          "name": "stdout",
          "text": [
            "Collecting newsapi-python\n",
            "  Downloading newsapi_python-0.2.7-py2.py3-none-any.whl (7.9 kB)\n",
            "Requirement already satisfied: requests<3.0.0 in /usr/local/lib/python3.10/dist-packages (from newsapi-python) (2.31.0)\n",
            "Requirement already satisfied: charset-normalizer<4,>=2 in /usr/local/lib/python3.10/dist-packages (from requests<3.0.0->newsapi-python) (3.3.2)\n",
            "Requirement already satisfied: idna<4,>=2.5 in /usr/local/lib/python3.10/dist-packages (from requests<3.0.0->newsapi-python) (3.6)\n",
            "Requirement already satisfied: urllib3<3,>=1.21.1 in /usr/local/lib/python3.10/dist-packages (from requests<3.0.0->newsapi-python) (2.0.7)\n",
            "Requirement already satisfied: certifi>=2017.4.17 in /usr/local/lib/python3.10/dist-packages (from requests<3.0.0->newsapi-python) (2023.11.17)\n",
            "Installing collected packages: newsapi-python\n",
            "Successfully installed newsapi-python-0.2.7\n"
          ]
        }
      ]
    },
    {
      "cell_type": "code",
      "source": [
        "from newsapi import NewsApiClient\n",
        "\n",
        "# Init\n",
        "newsapi = NewsApiClient(api_key='7c0f8413b11a42edae50e68b8fcdc2f6')"
      ],
      "metadata": {
        "id": "yNo5hOQLNWoZ"
      },
      "execution_count": null,
      "outputs": []
    },
    {
      "cell_type": "code",
      "source": [
        "#Получить и вывести список последних 10-ти новостей, выпущенных информационным агентством BBC\n",
        "top_headlines = newsapi.get_top_headlines(sources='bbc-news')\n",
        "for head in top_headlines['articles']:\n",
        "    print(head['title'])"
      ],
      "metadata": {
        "colab": {
          "base_uri": "https://localhost:8080/"
        },
        "id": "t-fqZg-QP4od",
        "outputId": "2137ef75-598d-4464-dd94-c83c212aeffc"
      },
      "execution_count": null,
      "outputs": [
        {
          "output_type": "stream",
          "name": "stdout",
          "text": [
            "Ukraine says it shot down Russian A-50 spy plane\n",
            "Houthi missile hits US-owned container ship in Gulf of Aden\n",
            "Canada weighs capping foreign student admissions\n",
            "In pictures: US and Canada blanketed by frigid air\n",
            "Fani Willis: Georgia prosecutor blames criticisms on race\n",
            "Boeing to increase quality inspections of 737 Max production\n",
            "Hot air balloon crash kills 4 and injures 1 in Arizona desert\n",
            "Iowa caucus 2024: Donald Trump, Nikki Haley and Ron DeSantis campaign ahead of Republican vote - live updates\n",
            "Five Republican storylines to watch for at Iowa caucuses\n",
            "Iceland volcano eruption spills lava into town setting houses on fire\n"
          ]
        }
      ]
    },
    {
      "cell_type": "code",
      "source": [
        "#Получить и вывести список информационных агентств, публикующих новости на испанском языке\n",
        "sources = newsapi.get_sources()\n",
        "\n",
        "for agents in sources['sources']:\n",
        "    if agents['language'] == 'es':\n",
        "        print(agents['name'])"
      ],
      "metadata": {
        "colab": {
          "base_uri": "https://localhost:8080/"
        },
        "id": "6m7YEuppRBml",
        "outputId": "1996ef33-9741-49bd-c205-4e395c61ce21"
      },
      "execution_count": null,
      "outputs": [
        {
          "output_type": "stream",
          "name": "stdout",
          "text": [
            "CNN Spanish\n",
            "El Mundo\n",
            "Google News (Argentina)\n",
            "Infobae\n",
            "La Gaceta\n",
            "La Nacion\n",
            "Marca\n"
          ]
        }
      ]
    },
    {
      "cell_type": "code",
      "source": [
        "#Получить и вывести список 5-ти последних новостей связанных с ИИ\n",
        "all_articles = newsapi.get_everything(q='AI', page_size= 5)\n",
        "\n",
        "for art in all_articles['articles']:\n",
        "    print(art['title'], '\\n')"
      ],
      "metadata": {
        "colab": {
          "base_uri": "https://localhost:8080/"
        },
        "id": "E-U3ZhPNTXur",
        "outputId": "9da56bbd-6024-418f-f490-de3228e5758d"
      },
      "execution_count": null,
      "outputs": [
        {
          "output_type": "stream",
          "name": "stdout",
          "text": [
            "’Tis the season for AI apps and AI gadgets \n",
            "\n",
            "This is the future of generative AI, according to generative AI \n",
            "\n",
            "Microsoft bet big on AI in 2023, but its AI future is still unclear \n",
            "\n",
            "The Creative’s Toolbox Gets an AI Upgrade \n",
            "\n",
            "2024 in laptops: it’s shaping up to be a big year for Windows \n",
            "\n"
          ]
        }
      ]
    },
    {
      "cell_type": "markdown",
      "source": [
        "# Задание 2."
      ],
      "metadata": {
        "id": "GJXBIPpjR6sl"
      }
    },
    {
      "cell_type": "markdown",
      "source": [
        "**Работа с API OpenWeatherMap**\n",
        "1. Получить текущую погоду в вашем городе и вывести общее состояние погоды, скорость ветра, относительную влажность воздуха, температуру и температуру по ощущениям;\n",
        "2. Получить погоду в вашем городе на следующий день и вывести те же значения, что и в предыдущем пункте;\n",
        "3. Получить текущий индекс качества воздуха в Лондоне и вывести его."
      ],
      "metadata": {
        "id": "UBks6P1DR8s9"
      }
    },
    {
      "cell_type": "code",
      "source": [
        "!pip install pyowm"
      ],
      "metadata": {
        "colab": {
          "base_uri": "https://localhost:8080/"
        },
        "id": "8lUPc8wAXNDm",
        "outputId": "8e9038c9-de16-414a-ad3b-6060f3edd293"
      },
      "execution_count": null,
      "outputs": [
        {
          "output_type": "stream",
          "name": "stdout",
          "text": [
            "Collecting pyowm\n",
            "  Downloading pyowm-3.3.0-py3-none-any.whl (4.5 MB)\n",
            "\u001b[2K     \u001b[90m━━━━━━━━━━━━━━━━━━━━━━━━━━━━━━━━━━━━━━━━\u001b[0m \u001b[32m4.5/4.5 MB\u001b[0m \u001b[31m30.0 MB/s\u001b[0m eta \u001b[36m0:00:00\u001b[0m\n",
            "\u001b[?25hRequirement already satisfied: requests<3,>=2.20.0 in /usr/local/lib/python3.10/dist-packages (from pyowm) (2.31.0)\n",
            "Collecting geojson<3,>=2.3.0 (from pyowm)\n",
            "  Downloading geojson-2.5.0-py2.py3-none-any.whl (14 kB)\n",
            "Requirement already satisfied: PySocks<2,>=1.7.1 in /usr/local/lib/python3.10/dist-packages (from pyowm) (1.7.1)\n",
            "Requirement already satisfied: charset-normalizer<4,>=2 in /usr/local/lib/python3.10/dist-packages (from requests<3,>=2.20.0->pyowm) (3.3.2)\n",
            "Requirement already satisfied: idna<4,>=2.5 in /usr/local/lib/python3.10/dist-packages (from requests<3,>=2.20.0->pyowm) (3.6)\n",
            "Requirement already satisfied: urllib3<3,>=1.21.1 in /usr/local/lib/python3.10/dist-packages (from requests<3,>=2.20.0->pyowm) (2.0.7)\n",
            "Requirement already satisfied: certifi>=2017.4.17 in /usr/local/lib/python3.10/dist-packages (from requests<3,>=2.20.0->pyowm) (2023.11.17)\n",
            "Installing collected packages: geojson, pyowm\n",
            "Successfully installed geojson-2.5.0 pyowm-3.3.0\n"
          ]
        }
      ]
    },
    {
      "cell_type": "code",
      "source": [
        "#инициализация\n",
        "from pyowm.owm import OWM\n",
        "from pyowm.utils.config import get_default_config\n",
        "from pyowm.utils import timestamps\n",
        "owm = OWM('43753a488182a10ce0816b132218b951')\n",
        "config_dict = get_default_config()\n",
        "config_dict['language'] = 'ru'\n",
        "reg = owm.city_id_registry()\n",
        "list_of_locations = reg.locations_for('Murmansk', country='RU', matching='exact')\n",
        "murm = list_of_locations[0]\n",
        "lat = murm.lat\n",
        "lon = murm.lon\n",
        "print(lat, lon)"
      ],
      "metadata": {
        "colab": {
          "base_uri": "https://localhost:8080/"
        },
        "id": "iNPVmNitX9HN",
        "outputId": "7b3e8933-a83b-4ecd-c4da-9f08ba604ab4"
      },
      "execution_count": null,
      "outputs": [
        {
          "output_type": "stream",
          "name": "stdout",
          "text": [
            "68.979172 33.09251\n"
          ]
        }
      ]
    },
    {
      "cell_type": "code",
      "source": [
        "#Получить текущую погоду в вашем городе и вывести общее состояние погоды, скорость ветра, относительную влажность воздуха, температуру и температуру по ощущениям\n",
        "mgr = owm.weather_manager()\n",
        "observation = mgr.weather_at_place('Murmansk, RU')\n",
        "weather = observation.weather\n",
        "print('Общее состояние:', weather.status)\n",
        "print('Скорость ветра:', weather.wind().get('speed', 0), 'м/с')\n",
        "print('Относительная влажность воздуха: ', weather.humidity, '%')\n",
        "print('Температура: ', weather.temperature('celsius')['temp'], 'градусов Цельсия')\n",
        "print('Ощущается как: ', weather.temperature('celsius').get('feels_like'), 'градусов Цельсия')"
      ],
      "metadata": {
        "colab": {
          "base_uri": "https://localhost:8080/"
        },
        "id": "ASkUYPA6YidP",
        "outputId": "266dc333-73e2-4609-d69c-fefe4f93e432"
      },
      "execution_count": null,
      "outputs": [
        {
          "output_type": "stream",
          "name": "stdout",
          "text": [
            "Общее состояние: Clouds\n",
            "Скорость ветра: 4.65 м/с\n",
            "Относительная влажность воздуха:  93 %\n",
            "Температура:  -15.35 градусов Цельсия\n",
            "Ощущается как:  -22.35 градусов Цельсия\n"
          ]
        }
      ]
    },
    {
      "cell_type": "code",
      "source": [
        "#Получить погоду в вашем городе на следующий день и вывести те же значения, что и в предыдущем пункте\n",
        "mgr = owm.weather_manager()\n",
        "weather = mgr.forecast_at_place('Murmansk, RU', 'daily') #прочитал на stack overflow что с новыми ключами API не работает данная функция\n",
        "print('Общее состояние:', weather.status)\n",
        "print('Скорость ветра:', weather.wind().get('speed', 0), 'м/с')\n",
        "print('Относительная влажность воздуха: ', weather.humidity, '%')\n",
        "print('Температура: ', weather.temperature('celsius')['temp'], 'градусов Цельсия')\n",
        "print('Ощущается как: ', weather.temperature('celsius').get('feels_like'), 'градусов Цельсия')"
      ],
      "metadata": {
        "colab": {
          "base_uri": "https://localhost:8080/",
          "height": 400
        },
        "id": "AHQX86XYYkUE",
        "outputId": "a2675edb-c21e-414c-a1d2-62d30f9f0d7c"
      },
      "execution_count": null,
      "outputs": [
        {
          "output_type": "error",
          "ename": "UnauthorizedError",
          "evalue": "Invalid API Key provided",
          "traceback": [
            "\u001b[0;31m---------------------------------------------------------------------------\u001b[0m",
            "\u001b[0;31mUnauthorizedError\u001b[0m                         Traceback (most recent call last)",
            "\u001b[0;32m<ipython-input-96-f64aeed103ad>\u001b[0m in \u001b[0;36m<cell line: 3>\u001b[0;34m()\u001b[0m\n\u001b[1;32m      1\u001b[0m \u001b[0;31m#Получить погоду в вашем городе на следующий день и вывести те же значения, что и в предыдущем пункте\u001b[0m\u001b[0;34m\u001b[0m\u001b[0;34m\u001b[0m\u001b[0m\n\u001b[1;32m      2\u001b[0m \u001b[0mmgr\u001b[0m \u001b[0;34m=\u001b[0m \u001b[0mowm\u001b[0m\u001b[0;34m.\u001b[0m\u001b[0mweather_manager\u001b[0m\u001b[0;34m(\u001b[0m\u001b[0;34m)\u001b[0m\u001b[0;34m\u001b[0m\u001b[0;34m\u001b[0m\u001b[0m\n\u001b[0;32m----> 3\u001b[0;31m \u001b[0mweather\u001b[0m \u001b[0;34m=\u001b[0m \u001b[0mmgr\u001b[0m\u001b[0;34m.\u001b[0m\u001b[0mforecast_at_place\u001b[0m\u001b[0;34m(\u001b[0m\u001b[0;34m'Murmansk, RU'\u001b[0m\u001b[0;34m,\u001b[0m \u001b[0;34m'daily'\u001b[0m\u001b[0;34m)\u001b[0m\u001b[0;34m\u001b[0m\u001b[0;34m\u001b[0m\u001b[0m\n\u001b[0m\u001b[1;32m      4\u001b[0m \u001b[0mprint\u001b[0m\u001b[0;34m(\u001b[0m\u001b[0;34m'Общее состояние:'\u001b[0m\u001b[0;34m,\u001b[0m \u001b[0mweather\u001b[0m\u001b[0;34m.\u001b[0m\u001b[0mforecast_daily\u001b[0m\u001b[0;34m[\u001b[0m\u001b[0;36m0\u001b[0m\u001b[0;34m]\u001b[0m\u001b[0;34m.\u001b[0m\u001b[0mstatus\u001b[0m\u001b[0;34m)\u001b[0m\u001b[0;34m\u001b[0m\u001b[0;34m\u001b[0m\u001b[0m\n\u001b[1;32m      5\u001b[0m \u001b[0mprint\u001b[0m\u001b[0;34m(\u001b[0m\u001b[0;34m'Скорость ветра:'\u001b[0m\u001b[0;34m,\u001b[0m \u001b[0mweather\u001b[0m\u001b[0;34m.\u001b[0m\u001b[0mwind\u001b[0m\u001b[0;34m(\u001b[0m\u001b[0;34m)\u001b[0m\u001b[0;34m.\u001b[0m\u001b[0mget\u001b[0m\u001b[0;34m(\u001b[0m\u001b[0;34m'speed'\u001b[0m\u001b[0;34m,\u001b[0m \u001b[0;36m0\u001b[0m\u001b[0;34m)\u001b[0m\u001b[0;34m,\u001b[0m \u001b[0;34m'м/с'\u001b[0m\u001b[0;34m)\u001b[0m\u001b[0;34m\u001b[0m\u001b[0;34m\u001b[0m\u001b[0m\n",
            "\u001b[0;32m/usr/local/lib/python3.10/dist-packages/pyowm/weatherapi25/weather_manager.py\u001b[0m in \u001b[0;36mforecast_at_place\u001b[0;34m(self, name, interval, limit)\u001b[0m\n\u001b[1;32m    289\u001b[0m         \u001b[0;32melse\u001b[0m\u001b[0;34m:\u001b[0m\u001b[0;34m\u001b[0m\u001b[0;34m\u001b[0m\u001b[0m\n\u001b[1;32m    290\u001b[0m             \u001b[0;32mraise\u001b[0m \u001b[0mValueError\u001b[0m\u001b[0;34m(\u001b[0m\u001b[0;34m\"Unsupported time interval for forecast\"\u001b[0m\u001b[0;34m)\u001b[0m\u001b[0;34m\u001b[0m\u001b[0;34m\u001b[0m\u001b[0m\n\u001b[0;32m--> 291\u001b[0;31m         \u001b[0m_\u001b[0m\u001b[0;34m,\u001b[0m \u001b[0mjson_data\u001b[0m \u001b[0;34m=\u001b[0m \u001b[0mself\u001b[0m\u001b[0;34m.\u001b[0m\u001b[0mhttp_client\u001b[0m\u001b[0;34m.\u001b[0m\u001b[0mget_json\u001b[0m\u001b[0;34m(\u001b[0m\u001b[0muri\u001b[0m\u001b[0;34m,\u001b[0m \u001b[0mparams\u001b[0m\u001b[0;34m=\u001b[0m\u001b[0mparams\u001b[0m\u001b[0;34m)\u001b[0m\u001b[0;34m\u001b[0m\u001b[0;34m\u001b[0m\u001b[0m\n\u001b[0m\u001b[1;32m    292\u001b[0m         \u001b[0mfc\u001b[0m \u001b[0;34m=\u001b[0m \u001b[0mforecast\u001b[0m\u001b[0;34m.\u001b[0m\u001b[0mForecast\u001b[0m\u001b[0;34m.\u001b[0m\u001b[0mfrom_dict\u001b[0m\u001b[0;34m(\u001b[0m\u001b[0mjson_data\u001b[0m\u001b[0;34m)\u001b[0m\u001b[0;34m\u001b[0m\u001b[0;34m\u001b[0m\u001b[0m\n\u001b[1;32m    293\u001b[0m         \u001b[0;32mif\u001b[0m \u001b[0mfc\u001b[0m \u001b[0;32mis\u001b[0m \u001b[0;32mnot\u001b[0m \u001b[0;32mNone\u001b[0m\u001b[0;34m:\u001b[0m\u001b[0;34m\u001b[0m\u001b[0;34m\u001b[0m\u001b[0m\n",
            "\u001b[0;32m/usr/local/lib/python3.10/dist-packages/pyowm/commons/http_client.py\u001b[0m in \u001b[0;36mget_json\u001b[0;34m(self, path, params, headers)\u001b[0m\n\u001b[1;32m    156\u001b[0m         \u001b[0;32mexcept\u001b[0m \u001b[0mrequests\u001b[0m\u001b[0;34m.\u001b[0m\u001b[0mexceptions\u001b[0m\u001b[0;34m.\u001b[0m\u001b[0mTimeout\u001b[0m\u001b[0;34m:\u001b[0m\u001b[0;34m\u001b[0m\u001b[0;34m\u001b[0m\u001b[0m\n\u001b[1;32m    157\u001b[0m             \u001b[0;32mraise\u001b[0m \u001b[0mexceptions\u001b[0m\u001b[0;34m.\u001b[0m\u001b[0mTimeoutError\u001b[0m\u001b[0;34m(\u001b[0m\u001b[0;34m'API call timeouted'\u001b[0m\u001b[0;34m)\u001b[0m\u001b[0;34m\u001b[0m\u001b[0;34m\u001b[0m\u001b[0m\n\u001b[0;32m--> 158\u001b[0;31m         \u001b[0mHttpClient\u001b[0m\u001b[0;34m.\u001b[0m\u001b[0mcheck_status_code\u001b[0m\u001b[0;34m(\u001b[0m\u001b[0mresp\u001b[0m\u001b[0;34m.\u001b[0m\u001b[0mstatus_code\u001b[0m\u001b[0;34m,\u001b[0m \u001b[0mresp\u001b[0m\u001b[0;34m.\u001b[0m\u001b[0mtext\u001b[0m\u001b[0;34m)\u001b[0m\u001b[0;34m\u001b[0m\u001b[0;34m\u001b[0m\u001b[0m\n\u001b[0m\u001b[1;32m    159\u001b[0m         \u001b[0;32mtry\u001b[0m\u001b[0;34m:\u001b[0m\u001b[0;34m\u001b[0m\u001b[0;34m\u001b[0m\u001b[0m\n\u001b[1;32m    160\u001b[0m             \u001b[0;32mreturn\u001b[0m \u001b[0mresp\u001b[0m\u001b[0;34m.\u001b[0m\u001b[0mstatus_code\u001b[0m\u001b[0;34m,\u001b[0m \u001b[0mresp\u001b[0m\u001b[0;34m.\u001b[0m\u001b[0mjson\u001b[0m\u001b[0;34m(\u001b[0m\u001b[0;34m)\u001b[0m\u001b[0;34m\u001b[0m\u001b[0;34m\u001b[0m\u001b[0m\n",
            "\u001b[0;32m/usr/local/lib/python3.10/dist-packages/pyowm/commons/http_client.py\u001b[0m in \u001b[0;36mcheck_status_code\u001b[0;34m(cls, status_code, payload)\u001b[0m\n\u001b[1;32m    311\u001b[0m             \u001b[0;32mraise\u001b[0m \u001b[0mexceptions\u001b[0m\u001b[0;34m.\u001b[0m\u001b[0mAPIRequestError\u001b[0m\u001b[0;34m(\u001b[0m\u001b[0mpayload\u001b[0m\u001b[0;34m)\u001b[0m\u001b[0;34m\u001b[0m\u001b[0;34m\u001b[0m\u001b[0m\n\u001b[1;32m    312\u001b[0m         \u001b[0;32melif\u001b[0m \u001b[0mstatus_code\u001b[0m \u001b[0;34m==\u001b[0m \u001b[0;36m401\u001b[0m\u001b[0;34m:\u001b[0m\u001b[0;34m\u001b[0m\u001b[0;34m\u001b[0m\u001b[0m\n\u001b[0;32m--> 313\u001b[0;31m             \u001b[0;32mraise\u001b[0m \u001b[0mexceptions\u001b[0m\u001b[0;34m.\u001b[0m\u001b[0mUnauthorizedError\u001b[0m\u001b[0;34m(\u001b[0m\u001b[0;34m'Invalid API Key provided'\u001b[0m\u001b[0;34m)\u001b[0m\u001b[0;34m\u001b[0m\u001b[0;34m\u001b[0m\u001b[0m\n\u001b[0m\u001b[1;32m    314\u001b[0m         \u001b[0;32melif\u001b[0m \u001b[0mstatus_code\u001b[0m \u001b[0;34m==\u001b[0m \u001b[0;36m404\u001b[0m\u001b[0;34m:\u001b[0m\u001b[0;34m\u001b[0m\u001b[0;34m\u001b[0m\u001b[0m\n\u001b[1;32m    315\u001b[0m             \u001b[0;32mraise\u001b[0m \u001b[0mexceptions\u001b[0m\u001b[0;34m.\u001b[0m\u001b[0mNotFoundError\u001b[0m\u001b[0;34m(\u001b[0m\u001b[0;34m'Unable to find the resource'\u001b[0m\u001b[0;34m)\u001b[0m\u001b[0;34m\u001b[0m\u001b[0;34m\u001b[0m\u001b[0m\n",
            "\u001b[0;31mUnauthorizedError\u001b[0m: Invalid API Key provided"
          ]
        }
      ]
    },
    {
      "cell_type": "code",
      "source": [
        "#Получить текущий индекс качества воздуха в Лондоне и вывести его\n",
        "mgr = owm.airpollution_manager()\n",
        "air_status = mgr.air_quality_at_coords(51.507351, -0.127758)  # London, GB\n",
        "\n",
        "print('Индекс качества воздуха в Лондоне: ', air_status.aqi)"
      ],
      "metadata": {
        "colab": {
          "base_uri": "https://localhost:8080/"
        },
        "id": "h42rVT--YnUV",
        "outputId": "f74ee405-5dfe-48b7-f363-1262bc490efc"
      },
      "execution_count": null,
      "outputs": [
        {
          "output_type": "stream",
          "name": "stdout",
          "text": [
            "Индекс качества воздуха в Лондоне:  3\n"
          ]
        }
      ]
    },
    {
      "cell_type": "markdown",
      "source": [
        "# Задание 3."
      ],
      "metadata": {
        "id": "qYdLVAUOThro"
      }
    },
    {
      "cell_type": "markdown",
      "source": [
        "**Работа с API Wikipedia**\n",
        "1. Получить данные о странице про язык программирования Python и вывести заголовок и первые 60 символов из краткого содержания статьи;\n",
        "2. Вывести первые 40 символов из содержимого секции истории языка;\n",
        "3. Вывести заголовок и первые 140 символов из краткого содержания статьи на одном из языков на которых доступна статья."
      ],
      "metadata": {
        "id": "dXP9_DWhTmi5"
      }
    },
    {
      "cell_type": "code",
      "source": [
        "!pip install wikipedia"
      ],
      "metadata": {
        "colab": {
          "base_uri": "https://localhost:8080/"
        },
        "id": "wKin6WPFvanu",
        "outputId": "6a820cc7-e414-46a2-e218-78b5c5dfc2e8"
      },
      "execution_count": null,
      "outputs": [
        {
          "output_type": "stream",
          "name": "stdout",
          "text": [
            "Collecting wikipedia\n",
            "  Downloading wikipedia-1.4.0.tar.gz (27 kB)\n",
            "  Preparing metadata (setup.py) ... \u001b[?25l\u001b[?25hdone\n",
            "Requirement already satisfied: beautifulsoup4 in /usr/local/lib/python3.10/dist-packages (from wikipedia) (4.11.2)\n",
            "Requirement already satisfied: requests<3.0.0,>=2.0.0 in /usr/local/lib/python3.10/dist-packages (from wikipedia) (2.31.0)\n",
            "Requirement already satisfied: charset-normalizer<4,>=2 in /usr/local/lib/python3.10/dist-packages (from requests<3.0.0,>=2.0.0->wikipedia) (3.3.2)\n",
            "Requirement already satisfied: idna<4,>=2.5 in /usr/local/lib/python3.10/dist-packages (from requests<3.0.0,>=2.0.0->wikipedia) (3.6)\n",
            "Requirement already satisfied: urllib3<3,>=1.21.1 in /usr/local/lib/python3.10/dist-packages (from requests<3.0.0,>=2.0.0->wikipedia) (2.0.7)\n",
            "Requirement already satisfied: certifi>=2017.4.17 in /usr/local/lib/python3.10/dist-packages (from requests<3.0.0,>=2.0.0->wikipedia) (2023.11.17)\n",
            "Requirement already satisfied: soupsieve>1.2 in /usr/local/lib/python3.10/dist-packages (from beautifulsoup4->wikipedia) (2.5)\n",
            "Building wheels for collected packages: wikipedia\n",
            "  Building wheel for wikipedia (setup.py) ... \u001b[?25l\u001b[?25hdone\n",
            "  Created wheel for wikipedia: filename=wikipedia-1.4.0-py3-none-any.whl size=11678 sha256=66d5069e9b78e6ec461a04163c130e9731fed160438e449b84cf1006c7d390be\n",
            "  Stored in directory: /root/.cache/pip/wheels/5e/b6/c5/93f3dec388ae76edc830cb42901bb0232504dfc0df02fc50de\n",
            "Successfully built wikipedia\n",
            "Installing collected packages: wikipedia\n",
            "Successfully installed wikipedia-1.4.0\n"
          ]
        }
      ]
    },
    {
      "cell_type": "code",
      "source": [
        "import wikipedia\n",
        "#Получить данные о странице про язык программирования Python и вывести заголовок и первые 60 символов из краткого содержания статьи\n",
        "python = wikipedia.page(title = 'Python (programming language)')\n",
        "print(python.original_title, '\\n')\n",
        "print(python.content[:61])"
      ],
      "metadata": {
        "colab": {
          "base_uri": "https://localhost:8080/"
        },
        "id": "c6UpMC0DvfTf",
        "outputId": "4e1b4189-f9c0-4c21-a141-2be316293c92"
      },
      "execution_count": null,
      "outputs": [
        {
          "output_type": "stream",
          "name": "stdout",
          "text": [
            "Python (programming language) \n",
            "\n",
            "Python is a high-level, general-purpose programming language.\n"
          ]
        }
      ]
    },
    {
      "cell_type": "code",
      "source": [
        "#Вывести первые 40 символов из содержимого секции истории языка\n",
        "print(python.section('History')[:41])"
      ],
      "metadata": {
        "id": "eefdNGhAvqtm",
        "colab": {
          "base_uri": "https://localhost:8080/"
        },
        "outputId": "d16f6fd3-2f3e-42db-bb54-ce6c9e06a11a"
      },
      "execution_count": null,
      "outputs": [
        {
          "output_type": "stream",
          "name": "stdout",
          "text": [
            "Python was conceived in the late 1980s by\n"
          ]
        }
      ]
    },
    {
      "cell_type": "code",
      "source": [
        "#Вывести заголовок и первые 140 символов из краткого содержания статьи на одном из языков на которых доступна статья.\n",
        "wikipedia.set_lang('fr')\n",
        "python = wikipedia.page(title = 'Python (programming language)')\n",
        "print(python.original_title, '\\n')\n",
        "print(python.content[:141])"
      ],
      "metadata": {
        "id": "NwWet8nivuOV",
        "colab": {
          "base_uri": "https://localhost:8080/"
        },
        "outputId": "df66c804-b29e-4b78-9063-f42ff42864ab"
      },
      "execution_count": null,
      "outputs": [
        {
          "output_type": "stream",
          "name": "stdout",
          "text": [
            "Python (langage) \n",
            "\n",
            "Python (prononcé /pi.tɔ̃/) est un langage de programmation interprété, multiparadigme et multiplateformes. Il favorise la programmation impér\n"
          ]
        }
      ]
    },
    {
      "cell_type": "markdown",
      "source": [
        "# Задание 4."
      ],
      "metadata": {
        "id": "95LjDmDPWU6e"
      }
    },
    {
      "cell_type": "markdown",
      "source": [
        "К сожалению страница недоступна ☹"
      ],
      "metadata": {
        "id": "WpkmW5Rn5Xn1"
      }
    },
    {
      "cell_type": "markdown",
      "source": [
        "![2024-01-17 22_27_37-.png](data:image/png;base64,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)"
      ],
      "metadata": {
        "id": "5PgWBTob5I-F"
      }
    },
    {
      "cell_type": "markdown",
      "source": [
        "**Работа с API TheTVDB.com.**\n",
        "1. На странице Discover - Awards получите перечень названий всех премий, которые учитываются в базе;\n",
        "2. На странице Discover - Official Lists получите перечень названий 10-ти последних публикаций;\n",
        "3. На странице Discover - Companies получите перечень из 15-ти названий компаний, связанных с TheTVDB.com."
      ],
      "metadata": {
        "id": "Y3tz6SouWYRQ"
      }
    },
    {
      "cell_type": "markdown",
      "source": [
        "# Задание 5."
      ],
      "metadata": {
        "id": "u3LTqn3TYrzn"
      }
    },
    {
      "cell_type": "markdown",
      "source": [
        "**Работа с API geopy**\n",
        "\n",
        "Используя геокодер для OpenStreetMap Nominatim, задать адрес любого здания в вашем городе. Далее:\n",
        "1. Вывести полную информацию о введённом адресе полученную из API;\n",
        "2. На новой строке вывести ширину и долготу для заданного адреса;\n",
        "3. На новой строке отобразить необработанные данные, полученные из API."
      ],
      "metadata": {
        "id": "DbkhBYpNYt97"
      }
    },
    {
      "cell_type": "code",
      "source": [
        "!pip install geopy"
      ],
      "metadata": {
        "colab": {
          "base_uri": "https://localhost:8080/"
        },
        "id": "nn4I6nub6bbc",
        "outputId": "53be9f99-16d6-41b9-b516-e11cdece3306"
      },
      "execution_count": null,
      "outputs": [
        {
          "output_type": "stream",
          "name": "stdout",
          "text": [
            "Requirement already satisfied: geopy in /usr/local/lib/python3.10/dist-packages (2.3.0)\n",
            "Requirement already satisfied: geographiclib<3,>=1.52 in /usr/local/lib/python3.10/dist-packages (from geopy) (2.0)\n"
          ]
        }
      ]
    },
    {
      "cell_type": "code",
      "source": [
        "from geopy.geocoders import Nominatim\n",
        "geolocator = Nominatim(user_agent=\"Meridian\")\n",
        "location = geolocator.reverse(\"68.969792, 33.072591\")\n",
        "print(location.address)\n",
        "print((location.latitude, location.longitude))\n",
        "print(location.raw)"
      ],
      "metadata": {
        "colab": {
          "base_uri": "https://localhost:8080/"
        },
        "id": "KiR9wFHb50Xr",
        "outputId": "b19eccd5-1293-4c94-8787-e6a2574c1032"
      },
      "execution_count": null,
      "outputs": [
        {
          "output_type": "stream",
          "name": "stdout",
          "text": [
            "Бизнес центр \"Меридиан\", 5/23, улица Воровского, Новое плато, Октябрьский округ, Мурманск, городской округ Мурманск, Мурманская область, Северо-Западный федеральный округ, 183038, Россия\n",
            "(68.96979685, 33.072499059179904)\n",
            "{'place_id': 266734864, 'licence': 'Data © OpenStreetMap contributors, ODbL 1.0. http://osm.org/copyright', 'osm_type': 'way', 'osm_id': 44052906, 'lat': '68.96979685', 'lon': '33.072499059179904', 'class': 'building', 'type': 'yes', 'place_rank': 30, 'importance': 9.99999999995449e-06, 'addresstype': 'building', 'name': 'Бизнес центр \"Меридиан\"', 'display_name': 'Бизнес центр \"Меридиан\", 5/23, улица Воровского, Новое плато, Октябрьский округ, Мурманск, городской округ Мурманск, Мурманская область, Северо-Западный федеральный округ, 183038, Россия', 'address': {'building': 'Бизнес центр \"Меридиан\"', 'house_number': '5/23', 'road': 'улица Воровского', 'suburb': 'Новое плато', 'city_district': 'Октябрьский округ', 'city': 'Мурманск', 'county': 'городской округ Мурманск', 'state': 'Мурманская область', 'ISO3166-2-lvl4': 'RU-MUR', 'region': 'Северо-Западный федеральный округ', 'postcode': '183038', 'country': 'Россия', 'country_code': 'ru'}, 'boundingbox': ['68.9694339', '68.9700057', '33.0719420', '33.0734381']}\n"
          ]
        }
      ]
    }
  ]
}